{
 "cells": [
  {
   "cell_type": "code",
   "execution_count": 1,
   "id": "a37de9c8-0b4e-4af0-ae98-552b51cd7046",
   "metadata": {},
   "outputs": [],
   "source": [
    "#Explane with an example each when to use for loop and while loop"
   ]
  },
  {
   "cell_type": "code",
   "execution_count": 2,
   "id": "4c1cf53a-6094-470a-88c8-5948acf06d5d",
   "metadata": {},
   "outputs": [],
   "source": [
    " ## ANS>>The major difference between for loop and the while loop is that for loop is used \n",
    "##when the number of iterations is known, whereas execution is done in the while loop\n",
    "##until the statement in the program is proved wrong."
   ]
  },
  {
   "cell_type": "code",
   "execution_count": 3,
   "id": "ae930003-0f4d-4e29-aa1e-7c166372dd29",
   "metadata": {},
   "outputs": [
    {
     "name": "stdout",
     "output_type": "stream",
     "text": [
      "bihar\n",
      "delhi\n",
      "mumbai\n",
      "punjab\n",
      "it print when for loop complet itself\n"
     ]
    }
   ],
   "source": [
    "l=[\"bihar\",\"delhi\",\"mumbai\",\"punjab\"]\n",
    "for i in l :\n",
    "    print(i)\n",
    "else :\n",
    "    print(\"it print when for loop complet itself\")\n"
   ]
  },
  {
   "cell_type": "code",
   "execution_count": 4,
   "id": "4a91924c-c9da-4a1d-8f26-65e155bbcc37",
   "metadata": {},
   "outputs": [],
   "source": [
    "## using while loop"
   ]
  },
  {
   "cell_type": "code",
   "execution_count": 11,
   "id": "84d63bed-85f7-4838-9d60-460202863075",
   "metadata": {},
   "outputs": [],
   "source": [
    "# question no. 2"
   ]
  },
  {
   "cell_type": "code",
   "execution_count": 1,
   "id": "525b5b83-f53d-4390-bc8b-b8fef44f7d6f",
   "metadata": {},
   "outputs": [],
   "source": [
    "## write a python program to print the sum and product of the first 10 natural number using for and while loop"
   ]
  },
  {
   "cell_type": "code",
   "execution_count": 10,
   "id": "b29519af-372a-4380-b3ba-e7a31ee8836b",
   "metadata": {},
   "outputs": [
    {
     "data": {
      "text/plain": [
       "55"
      ]
     },
     "execution_count": 10,
     "metadata": {},
     "output_type": "execute_result"
    }
   ],
   "source": [
    "sum = 0\n",
    "for i in range(1,11) :\n",
    "    sum = sum +i\n",
    "sum\n",
    "    "
   ]
  },
  {
   "cell_type": "code",
   "execution_count": null,
   "id": "367f57f0-54f2-4778-a438-e4ae7ad5ad35",
   "metadata": {},
   "outputs": [],
   "source": [
    "prod = 1\n",
    "for i in range(1,11) :\n",
    "    prod = prod*i\n",
    "prod"
   ]
  },
  {
   "cell_type": "code",
   "execution_count": null,
   "id": "0b17a8d1-defc-4365-884f-385e3a440853",
   "metadata": {},
   "outputs": [],
   "source": [
    "n = 10 \n",
    "a = 1\n",
    "sum = 0\n",
    "while a <= n:\n",
    "    sum = sum + a\n",
    "    a = a+1\n",
    "sum\n",
    "    "
   ]
  },
  {
   "cell_type": "code",
   "execution_count": null,
   "id": "95317682-c9ed-4d3a-9e67-3cb9c5aff4ba",
   "metadata": {},
   "outputs": [],
   "source": [
    "n = 10 \n",
    "a = 1\n",
    "prod = 1\n",
    "while a <= n:\n",
    "    prod = prod*1\n",
    "    \n",
    "prod  "
   ]
  },
  {
   "cell_type": "code",
   "execution_count": null,
   "id": "bc1f19df-5ce7-4a32-94c5-c38207bff594",
   "metadata": {},
   "outputs": [],
   "source": [
    "# Question no. 3"
   ]
  },
  {
   "cell_type": "code",
   "execution_count": null,
   "id": "db38afe6-ce1e-4eca-a9d7-cd2730982753",
   "metadata": {},
   "outputs": [],
   "source": [
    "unit = int(input(\"Enter your unit\"))\n",
    "if unit <=100:\n",
    "    bill = unit*4.5\n",
    "elif unit >=101 and unit <= 200 :\n",
    "    bill = 450 + ((unit -100))*6\n",
    "elif unit >=201 and unit <=300 :\n",
    "    bill = 450 + 600 + ((unit -200))\n",
    "else :\n",
    "                  bill = 450+600+1000+((unit-300)*20)\n",
    "                  \n",
    "print(bill)   "
   ]
  },
  {
   "cell_type": "code",
   "execution_count": null,
   "id": "19c274ac-0467-44c0-bbb4-97641977f628",
   "metadata": {},
   "outputs": [],
   "source": [
    "# question number 5"
   ]
  },
  {
   "cell_type": "code",
   "execution_count": 1,
   "id": "b0ffd99d-fcf1-496d-aba9-9062c2a6ba63",
   "metadata": {},
   "outputs": [
    {
     "name": "stdout",
     "output_type": "stream",
     "text": [
      "11\n"
     ]
    }
   ],
   "source": [
    "srt = \"I want to become a data scientist\"\n",
    "count=0\n",
    "i=0\n",
    "for i in range(len(srt)):\n",
    "    if srt[i]==\"a\" or srt[i]==\"e\" or srt[i]==\"i\" or srt[i]==\"o\" or srt[i]==\"u\" :\n",
    "        count+=1\n",
    "    \n",
    "\n",
    "print(count)"
   ]
  },
  {
   "cell_type": "code",
   "execution_count": 2,
   "id": "9842b63d-bff0-4e2e-9efe-f162c0d70911",
   "metadata": {},
   "outputs": [],
   "source": [
    "# Question no.4"
   ]
  },
  {
   "cell_type": "code",
   "execution_count": 1,
   "id": "077b028a-078f-49f7-a030-dc0ea4f680cc",
   "metadata": {},
   "outputs": [
    {
     "data": {
      "text/plain": [
       "[4,\n",
       " 5,\n",
       " 8,\n",
       " 10,\n",
       " 12,\n",
       " 15,\n",
       " 16,\n",
       " 20,\n",
       " 24,\n",
       " 25,\n",
       " 28,\n",
       " 30,\n",
       " 32,\n",
       " 35,\n",
       " 36,\n",
       " 40,\n",
       " 44,\n",
       " 45,\n",
       " 48,\n",
       " 50,\n",
       " 52,\n",
       " 55,\n",
       " 56,\n",
       " 60,\n",
       " 64,\n",
       " 65,\n",
       " 68,\n",
       " 70,\n",
       " 72,\n",
       " 75,\n",
       " 76,\n",
       " 80,\n",
       " 84,\n",
       " 85,\n",
       " 88,\n",
       " 90,\n",
       " 92,\n",
       " 95,\n",
       " 96,\n",
       " 100]"
      ]
     },
     "execution_count": 1,
     "metadata": {},
     "output_type": "execute_result"
    }
   ],
   "source": [
    "l=[]\n",
    "for i in range(1,101):\n",
    "    if i%4==0 or i%5==0:\n",
    "        l.append(i)\n",
    "l  "
   ]
  },
  {
   "cell_type": "code",
   "execution_count": null,
   "id": "ca0f41c4-b1b4-4816-a522-b03dca68407a",
   "metadata": {},
   "outputs": [],
   "source": [
    "l=[]\n",
    "a=1\n",
    "while a<=100:\n",
    "    if a%4==0 or a%5==0:\n",
    "        l.append(a)       \n",
    "    a=a+1\n",
    "a"
   ]
  },
  {
   "cell_type": "code",
   "execution_count": null,
   "id": "1c3824de-43a7-4398-9d4e-4e0cf7d15b5e",
   "metadata": {},
   "outputs": [],
   "source": []
  }
 ],
 "metadata": {
  "kernelspec": {
   "display_name": "Python 3 (ipykernel)",
   "language": "python",
   "name": "python3"
  },
  "language_info": {
   "codemirror_mode": {
    "name": "ipython",
    "version": 3
   },
   "file_extension": ".py",
   "mimetype": "text/x-python",
   "name": "python",
   "nbconvert_exporter": "python",
   "pygments_lexer": "ipython3",
   "version": "3.10.6"
  }
 },
 "nbformat": 4,
 "nbformat_minor": 5
}
